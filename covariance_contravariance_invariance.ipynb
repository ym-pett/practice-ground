{
 "cells": [
  {
   "cell_type": "markdown",
   "id": "d90adbc0",
   "metadata": {},
   "source": [
    "# Covariance\n",
    "\n",
    "`Specific instead of generic`\n",
    "\n",
    "\"You're using **something specific**, e.g. a an oyster knife for cutting carrots, where we'd **normally us something more generic**, i.e. a kitchen knife\"\n",
    "\n",
    "The code below passes because Tuple is covariant. The cell after fails because lists are invariant\n"
   ]
  },
  {
   "cell_type": "markdown",
   "id": "4dd4e22f",
   "metadata": {},
   "source": [
    "to see the code run, https://mypy-play.net/?mypy=latest&python=3.12&gist=ac83c869bb0acec338fb4324d16ccb63"
   ]
  },
  {
   "cell_type": "code",
   "execution_count": null,
   "id": "5fc4ea9b",
   "metadata": {},
   "outputs": [],
   "source": [
    "from typing import Tuple, List\n",
    "class Animal: pass\n",
    "class Cat(Animal): pass\n",
    "\n",
    "cats: Tuple[Cat, ...]\n",
    "animals: Tuple[Animal, ...] = cats  # OK: Tuple is covariant\n"
   ]
  },
  {
   "cell_type": "code",
   "execution_count": null,
   "id": "69747698",
   "metadata": {},
   "outputs": [],
   "source": [
    "cat_list: List[Cat]\n",
    "\n",
    "animal_list: List[Animal]\n",
    "\n",
    "animal_list = cat_list"
   ]
  },
  {
   "cell_type": "markdown",
   "id": "a8c66564",
   "metadata": {},
   "source": [
    "mypy output for above:\n",
    "\n",
    "\n",
    "main.py:12: error: Incompatible types in assignment (expression has type \"list[Cat]\", variable has type \"list[Animal]\")  [assignment]\n",
    "\n",
    "main.py:12: note: \"list\" is invariant -- see https://mypy.readthedocs.io/en/stable/common_issues.html#variance\n",
    "\n",
    "main.py:12: note: Consider using \"Sequence\" instead, which is covariant\n",
    "\n",
    "Found 1 error in 1 file (checked 1 source file)\n"
   ]
  },
  {
   "cell_type": "markdown",
   "id": "47beab2e",
   "metadata": {},
   "source": [
    "# Contravariance\n",
    "\n",
    "`Generic instead of specific`\n",
    "\n",
    "\"You're using something generic, where we usually have something more specific. E.g. a knife instead of an oyster knife for opening oysters.\"\n",
    "\n",
    "The code below runs because functions are generally contravariant.\n",
    "\n",
    "see the code run https://mypy-play.net/?mypy=latest&python=3.12&gist=8843ce89f7d049d756eac5c60130f23d"
   ]
  },
  {
   "cell_type": "code",
   "execution_count": null,
   "id": "3de9d28b",
   "metadata": {},
   "outputs": [],
   "source": [
    "from typing import Callable\n",
    "from typing import Tuple, List\n",
    "class Animal: pass\n",
    "class Cat(Animal): pass\n",
    "\n",
    "def eat(animal: Animal) -> None: ...\n",
    "def bark(dog: Cat) -> None: ...\n",
    "action: Callable[[Animal], None]\n",
    "my_action: Callable[[Cat], None] = action  # OK: Callable is contravariant in its argument\n",
    "\n",
    "#TODO: break this with a function assignment that isn't contravariant"
   ]
  },
  {
   "cell_type": "markdown",
   "id": "7dc9c2b5",
   "metadata": {},
   "source": [
    "another example I find easier to break & fix, adapted from Marco's tutorial https://labs.quansight.org/blog/escaping-contravariance-hell\n",
    "\n",
    "the code below gives the message with the typical Liskov substitution violation for contravariance\n",
    "\n",
    "\"main.py:10: error: Argument 1 of \"stroke\" is incompatible with supertype \"AnimalStroker\"; supertype defines the argument type as \"Animal\"  [override]\n",
    "main.py:10: note: This violates the Liskov substitution principle\n",
    "main.py:10: note: See https://mypy.readthedocs.io/en/stable/common_issues.html#incompatible-overrides\n",
    "Found 1 error in 1 file (checked 1 source file)\"\n",
    "\n",
    "see the code run: https://mypy-play.net/?mypy=latest&python=3.12&gist=867591a445d64b6b519bb4403815bcb1"
   ]
  },
  {
   "cell_type": "code",
   "execution_count": null,
   "id": "68f11b9a",
   "metadata": {},
   "outputs": [],
   "source": [
    "class Animal: ...\n",
    "class Cat(Animal): ...\n",
    "class Dog(Animal): ...\n",
    "\n",
    "class AnimalStroker(Animal):\n",
    "    def stroke(self, animal: Animal) -> None:\n",
    "        ...\n",
    "        \n",
    "class DogStroker(AnimalStroker):\n",
    "    def stroke(self, animal: Dog) -> None:\n",
    "        ..."
   ]
  },
  {
   "cell_type": "markdown",
   "id": "90d9a0bb",
   "metadata": {},
   "source": [
    "How to fix the above error: "
   ]
  },
  {
   "cell_type": "code",
   "execution_count": null,
   "id": "3273c727",
   "metadata": {},
   "outputs": [],
   "source": [
    "# without using Protocol:\n",
    "\n",
    "from typing import TypeVar, Generic\n",
    "\n",
    "\n",
    "class Animal: ...\n",
    "class Cat(Animal): ...\n",
    "class Dog(Animal): ...\n",
    "\n",
    "AnimalT = TypeVar('AnimalT', bound=Animal)\n",
    "\n",
    "class AnimalStroker(Generic[AnimalT]):\n",
    "    def stroke(self, animal: AnimalT) -> None:\n",
    "        ...\n",
    "        \n",
    "class DogStroker(AnimalStroker[Dog]):\n",
    "    def stroke(self, animal: Dog) -> None:\n",
    "        ...\n",
    "\n",
    "# run code here:  https://mypy-play.net/?mypy=latest&python=3.12&gist=82c80b749ae6a50d6c1619fbf795b560"
   ]
  },
  {
   "cell_type": "code",
   "execution_count": null,
   "id": "31e5c935",
   "metadata": {},
   "outputs": [],
   "source": [
    "# using Protocol:\n",
    "\n",
    "from typing import Protocol, TypeVar\n",
    "\n",
    "class Animal(Protocol): ...\n",
    "class Cat(Animal): ...\n",
    "class Dog(Animal): ...\n",
    "\n",
    "AnimalT = TypeVar('AnimalT', bound=Animal)\n",
    "\n",
    "class AnimalStroker(Protocol[AnimalT]):\n",
    "    def stroke(self, animal: AnimalT) -> AnimalT:\n",
    "        ...\n",
    "        \n",
    "class DogStroker(AnimalStroker[Dog]):\n",
    "    def stroke(self, animal: Dog) -> Dog:\n",
    "        return animal\n",
    "    \n",
    "# run code here: https://mypy-play.net/?mypy=latest&python=3.12&gist=90a0bb6a7f26a1c427de8541227b9f4d"
   ]
  },
  {
   "cell_type": "markdown",
   "id": "256f9daf",
   "metadata": {},
   "source": []
  },
  {
   "cell_type": "markdown",
   "id": "eebc6b54",
   "metadata": {},
   "source": [
    "# Invariance\n",
    "\n",
    "`Like for Like`\n",
    "\n",
    "Lists & dictionaries are invariant as they are mutable containers"
   ]
  },
  {
   "cell_type": "markdown",
   "id": "0f852403",
   "metadata": {},
   "source": [
    "# Patterns"
   ]
  },
  {
   "cell_type": "markdown",
   "id": "f5007ca9",
   "metadata": {},
   "source": [
    "- Covariance is useful for immutable (read-only) containers.\n",
    "- Contravariance is used for argument types in callables (functions).\n",
    "- Invariance is the default for most mutable containers to avoid subtle bugs."
   ]
  },
  {
   "cell_type": "markdown",
   "id": "8cb0f476",
   "metadata": {},
   "source": []
  }
 ],
 "metadata": {
  "kernelspec": {
   "display_name": "materials-python-class",
   "language": "python",
   "name": "python3"
  },
  "language_info": {
   "codemirror_mode": {
    "name": "ipython",
    "version": 3
   },
   "file_extension": ".py",
   "mimetype": "text/x-python",
   "name": "python",
   "nbconvert_exporter": "python",
   "pygments_lexer": "ipython3",
   "version": "3.12.11"
  }
 },
 "nbformat": 4,
 "nbformat_minor": 5
}
