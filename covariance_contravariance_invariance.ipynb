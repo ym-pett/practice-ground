{
 "cells": [
  {
   "cell_type": "markdown",
   "id": "a2fafd32",
   "metadata": {},
   "source": []
  },
  {
   "cell_type": "markdown",
   "id": "d90adbc0",
   "metadata": {},
   "source": [
    "# Covariance\n",
    "\n",
    "\"You're using **something specific**, e.g. a carrot peeler, where we'd **normally us something more generic**, i.e. a peeler for any veg\"\n",
    "\n",
    "The code below passes because Tuple is covariant. The cell after fails because lists are invariant\n"
   ]
  },
  {
   "cell_type": "markdown",
   "id": "4dd4e22f",
   "metadata": {},
   "source": [
    "to see the code run, https://mypy-play.net/?mypy=latest&python=3.12&gist=ac83c869bb0acec338fb4324d16ccb63"
   ]
  },
  {
   "cell_type": "code",
   "execution_count": null,
   "id": "5fc4ea9b",
   "metadata": {},
   "outputs": [],
   "source": [
    "from typing import Tuple, List\n",
    "class Animal: pass\n",
    "class Cat(Animal): pass\n",
    "\n",
    "cats: Tuple[Cat, ...]\n",
    "animals: Tuple[Animal, ...] = cats  # OK: Tuple is covariant\n"
   ]
  },
  {
   "cell_type": "code",
   "execution_count": null,
   "id": "69747698",
   "metadata": {},
   "outputs": [],
   "source": [
    "cat_list: List[Cat]\n",
    "\n",
    "animal_list: List[Animal]\n",
    "\n",
    "animal_list = cat_list"
   ]
  },
  {
   "cell_type": "markdown",
   "id": "a8c66564",
   "metadata": {},
   "source": [
    "mypy output for above:\n",
    "\n",
    "\n",
    "main.py:12: error: Incompatible types in assignment (expression has type \"list[Cat]\", variable has type \"list[Animal]\")  [assignment]\n",
    "\n",
    "main.py:12: note: \"list\" is invariant -- see https://mypy.readthedocs.io/en/stable/common_issues.html#variance\n",
    "\n",
    "main.py:12: note: Consider using \"Sequence\" instead, which is covariant\n",
    "\n",
    "Found 1 error in 1 file (checked 1 source file)\n"
   ]
  },
  {
   "cell_type": "markdown",
   "id": "47beab2e",
   "metadata": {},
   "source": [
    "# Contravariance"
   ]
  },
  {
   "cell_type": "markdown",
   "id": "eebc6b54",
   "metadata": {},
   "source": [
    "# Invariance"
   ]
  },
  {
   "cell_type": "markdown",
   "id": "f5007ca9",
   "metadata": {},
   "source": [
    "Covariance is useful for immutable (read-only) containers.\n",
    "Contravariance is used for argument types in callables (functions).\n",
    "Invariance is the default for most mutable containers to avoid subtle bugs."
   ]
  }
 ],
 "metadata": {
  "kernelspec": {
   "display_name": "materials-python-class",
   "language": "python",
   "name": "python3"
  },
  "language_info": {
   "codemirror_mode": {
    "name": "ipython",
    "version": 3
   },
   "file_extension": ".py",
   "mimetype": "text/x-python",
   "name": "python",
   "nbconvert_exporter": "python",
   "pygments_lexer": "ipython3",
   "version": "3.12.11"
  }
 },
 "nbformat": 4,
 "nbformat_minor": 5
}
